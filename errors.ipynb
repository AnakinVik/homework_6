{
 "cells": [
  {
   "cell_type": "markdown",
   "metadata": {},
   "source": [
    "### Задание 1: "
   ]
  },
  {
   "cell_type": "code",
   "execution_count": 15,
   "metadata": {},
   "outputs": [
    {
     "name": "stdout",
     "output_type": "stream",
     "text": [
      "The Moscow Times - 2002-10-02 00:00:00\n",
      "The Guardian - 2013-11-10 00:00:00\n",
      "Daily News - 1977-08-18 00:00:00\n"
     ]
    }
   ],
   "source": [
    "'''Для каждой газеты из списка напишите формат указанной даты для перевода в объект datetime'''\n",
    "\n",
    "from datetime import datetime\n",
    "\n",
    "x = datetime.strptime('Wednesday, October 2, 2002','%A, %B %d, %Y')\n",
    "print('The Moscow Times -', x)\n",
    "\n",
    "y = datetime.strptime('Friday, 11.10.13', '%A, %m.%d.%y')\n",
    "print('The Guardian -', y)\n",
    "\n",
    "z = datetime.strptime('Thursday, 18 August 1977', '%A, %d %B %Y')\n",
    "print('Daily News -', z)\n"
   ]
  },
  {
   "cell_type": "markdown",
   "metadata": {},
   "source": [
    "### Задание 2:"
   ]
  },
  {
   "cell_type": "code",
   "execution_count": 25,
   "metadata": {},
   "outputs": [
    {
     "name": "stdout",
     "output_type": "stream",
     "text": [
      "True\n",
      "False\n",
      "False\n"
     ]
    }
   ],
   "source": [
    "'''\n",
    "   Дан поток дат в формате YYYY-MM-DD, в которых встречаются некорректные значения.\n",
    "   Напишите функцию, которая проверяет эти даты на корректность.\n",
    "   Т. е. для каждой даты возвращает True (дата корректна) или False (некорректная дата).\n",
    "'''\n",
    "from datetime import datetime\n",
    "\n",
    "stream = ['2018-04-02', '2018-02-29', '2018-19-02']\n",
    "\n",
    "def date_check(date_list):\n",
    "    for date in date_list:\n",
    "        try:\n",
    "            correct_date = datetime.strptime(date, '%Y-%m-%d')\n",
    "            print(True)\n",
    "        except:\n",
    "            print(False)\n",
    "        \n",
    "date_check(stream)\n",
    "            \n"
   ]
  },
  {
   "cell_type": "markdown",
   "metadata": {},
   "source": [
    "### Задание 3:"
   ]
  },
  {
   "cell_type": "code",
   "execution_count": 2,
   "metadata": {},
   "outputs": [
    {
     "name": "stdout",
     "output_type": "stream",
     "text": [
      "Ввести начальную дату в формате YYYY-MM-DD: 2020-01-01\n",
      "Ввести конечную дату в формате YYYY-MM-DD: 2019-01-01\n"
     ]
    },
    {
     "data": {
      "text/plain": [
       "[]"
      ]
     },
     "execution_count": 2,
     "metadata": {},
     "output_type": "execute_result"
    }
   ],
   "source": [
    "'''\n",
    "   Напишите функцию date_range, которая возвращает список дат за период от start_date до end_date.\n",
    "   Даты должны вводиться в формате YYYY-MM-DD.\n",
    "   В случае неверного формата или при start_date > end_date должен возвращаться пустой список.\n",
    "'''\n",
    "from datetime import timedelta\n",
    "from datetime import datetime\n",
    "\n",
    "start_date = input('Ввести начальную дату в формате YYYY-MM-DD: ')\n",
    "end_date = input('Ввести конечную дату в формате YYYY-MM-DD: ')\n",
    "\n",
    "def date_range(start, end):\n",
    "    start_dt = datetime.strptime(start, '%Y-%m-%d')\n",
    "    end_dt = datetime.strptime(end, '%Y-%m-%d')\n",
    "    final_list = []\n",
    "    if start_dt < end_dt:\n",
    "        temporary_date = start_dt\n",
    "        # Задаем цикл, в котором будем добавлять все промежуточные даты в список.\n",
    "        while temporary_date <= end_dt:\n",
    "            temporary_date += timedelta(days = 1)\n",
    "            intermediate_date = datetime.strftime(temporary_date, '%Y-%m-%d')\n",
    "            final_list.append(intermediate_date)\n",
    "    return final_list\n",
    "\n",
    "date_range(start_date, end_date)\n"
   ]
  },
  {
   "cell_type": "markdown",
   "metadata": {},
   "source": [
    "### Задание 4:"
   ]
  },
  {
   "cell_type": "code",
   "execution_count": 31,
   "metadata": {},
   "outputs": [
    {
     "data": {
      "text/plain": [
       "'A101'"
      ]
     },
     "execution_count": 31,
     "metadata": {},
     "output_type": "execute_result"
    }
   ],
   "source": [
    "'''\n",
    "Ваш коллега прислал код функции:\n",
    "   \n",
    "   DEFAULT_USER_COUNT = 3\n",
    "\n",
    "   def delete_and_return_last_user(region, default_list=['A100', 'A101', 'A102']):\n",
    "   \"\"\"\n",
    "   Удаляет из списка default_list последнего пользователя\n",
    "   и возвращает ID нового последнего пользователя.\n",
    "   \"\"\"\n",
    "       element_to_delete = default_list[-1]\n",
    "       default_list.remove(element_to_delete)\n",
    "\n",
    "   1 return default_list[DEFAULT_USER_COUNT-2]\n",
    "   \n",
    "   При однократном вызове этой функции все работает корректно:\n",
    "   delete_and_return_last_user(1)\n",
    "   'A101'\n",
    "\n",
    "   Однако, при повторном вызове получается ошибка IndexError: list index out of range.\n",
    "\n",
    "Необходимо узнать:\n",
    "   1) Что значит ошибка list index out of range?\n",
    "   2) Почему при первом запуске функция работает корректно, а при втором - нет?\n",
    "'''\n",
    "DEFAULT_USER_COUNT = 3\n",
    "\n",
    "def delete_and_return_last_user(region, default_list = ['A100', 'A101', 'A102']):\n",
    "    element_to_delete = default_list[-1]\n",
    "    default_list.remove(element_to_delete)\n",
    "    return default_list[DEFAULT_USER_COUNT - 2] # [DEFAULT_USER_COUNT - 2] = 1 (элемент с 1 индексом)\n",
    "    \n",
    "                        \n",
    "delete_and_return_last_user(1)    \n"
   ]
  },
  {
   "cell_type": "code",
   "execution_count": 30,
   "metadata": {},
   "outputs": [
    {
     "ename": "IndexError",
     "evalue": "list index out of range",
     "output_type": "error",
     "traceback": [
      "\u001b[1;31m---------------------------------------------------------------------------\u001b[0m",
      "\u001b[1;31mIndexError\u001b[0m                                Traceback (most recent call last)",
      "\u001b[1;32m<ipython-input-30-bfb6c4f8c48e>\u001b[0m in \u001b[0;36m<module>\u001b[1;34m\u001b[0m\n\u001b[1;32m----> 1\u001b[1;33m \u001b[0mdelete_and_return_last_user\u001b[0m\u001b[1;33m(\u001b[0m\u001b[1;36m1\u001b[0m\u001b[1;33m)\u001b[0m\u001b[1;33m\u001b[0m\u001b[1;33m\u001b[0m\u001b[0m\n\u001b[0m",
      "\u001b[1;32m<ipython-input-29-fbf54ad7e545>\u001b[0m in \u001b[0;36mdelete_and_return_last_user\u001b[1;34m(region, default_list)\u001b[0m\n\u001b[0;32m      4\u001b[0m     \u001b[0melement_to_delete\u001b[0m \u001b[1;33m=\u001b[0m \u001b[0mdefault_list\u001b[0m\u001b[1;33m[\u001b[0m\u001b[1;33m-\u001b[0m\u001b[1;36m1\u001b[0m\u001b[1;33m]\u001b[0m\u001b[1;33m\u001b[0m\u001b[1;33m\u001b[0m\u001b[0m\n\u001b[0;32m      5\u001b[0m     \u001b[0mdefault_list\u001b[0m\u001b[1;33m.\u001b[0m\u001b[0mremove\u001b[0m\u001b[1;33m(\u001b[0m\u001b[0melement_to_delete\u001b[0m\u001b[1;33m)\u001b[0m\u001b[1;33m\u001b[0m\u001b[1;33m\u001b[0m\u001b[0m\n\u001b[1;32m----> 6\u001b[1;33m     \u001b[1;32mreturn\u001b[0m \u001b[0mdefault_list\u001b[0m\u001b[1;33m[\u001b[0m\u001b[0mDEFAULT_USER_COUNT\u001b[0m\u001b[1;33m-\u001b[0m\u001b[1;36m2\u001b[0m\u001b[1;33m]\u001b[0m\u001b[1;33m\u001b[0m\u001b[1;33m\u001b[0m\u001b[0m\n\u001b[0m\u001b[0;32m      7\u001b[0m \u001b[1;33m\u001b[0m\u001b[0m\n\u001b[0;32m      8\u001b[0m \u001b[1;33m\u001b[0m\u001b[0m\n",
      "\u001b[1;31mIndexError\u001b[0m: list index out of range"
     ]
    }
   ],
   "source": [
    "delete_and_return_last_user(1)\n",
    "\n",
    "# 1) IndexError: list index out of range - обращение к элементу, которого не существует в списке.\n",
    "# 2) Соответственно при повторном вызове функции мы обращаемся к элементу с индексом 1Б который мы уже удалили ранее.\n"
   ]
  }
 ],
 "metadata": {
  "kernelspec": {
   "display_name": "Python 3",
   "language": "python",
   "name": "python3"
  },
  "language_info": {
   "codemirror_mode": {
    "name": "ipython",
    "version": 3
   },
   "file_extension": ".py",
   "mimetype": "text/x-python",
   "name": "python",
   "nbconvert_exporter": "python",
   "pygments_lexer": "ipython3",
   "version": "3.8.5"
  }
 },
 "nbformat": 4,
 "nbformat_minor": 4
}
